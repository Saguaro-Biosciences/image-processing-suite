{
 "cells": [
  {
   "cell_type": "code",
   "execution_count": 2,
   "id": "53eece50-10c0-4c1f-940e-b8d509d9ae30",
   "metadata": {},
   "outputs": [
    {
     "name": "stderr",
     "output_type": "stream",
     "text": [
      "[ERROR] Cannot create plugin: org.scijava.plugins.scripting.javascript.JavaScriptScriptLanguage\n"
     ]
    }
   ],
   "source": [
    "import numpy as np\n",
    "import imagej\n",
    "import boto3\n",
    "import tempfile\n",
    "import os\n",
    "import scyjava as sj\n",
    "import time\n",
    "import io\n",
    "import pandas as pd\n",
    "import re\n",
    "import imageio\n",
    "\n",
    "def generate_well_label(row, col):\n",
    "    row_letter = chr(64 + row)  # Convert row number to letter (1 -> A, 2 -> B, ..., 16 -> P)\n",
    "    col_str = f\"{col:02d}\"  # Format column as two-digit (1 -> 01, 10 -> 10)\n",
    "    return f\"{row_letter}{col_str}\"\n",
    "\n",
    "\n",
    "def modify_imagepath(filepath):\n",
    "    parts = filepath.split('/')\n",
    "    if 'Images' in parts:\n",
    "        images_index = parts.index('Images')\n",
    "        parts[images_index] = 'ImagesStacked'\n",
    "        return '/'.join(parts)\n",
    "    else:\n",
    "        return filepath\n",
    "\n",
    "#s3_client= boto3.client('s3')\n",
    "# initialize ImageJ\n",
    "sj.config.add_option('-Xmx25g')\n",
    "ij = imagej.init('sc.fiji:fiji')\n",
    "#print(f\"ImageJ version: {ij.getVersion()}\")\n",
    "\n",
    "\n",
    "\n",
    "def max_projection(image_group, bucket_name, s3_client):\n",
    "    # Initialize ImageJ plugins\n",
    "    stack = sj.jimport(\"ij.plugin.ImagesToStack\")()\n",
    "    ZProjector = sj.jimport(\"ij.plugin.ZProjector\")()\n",
    "\n",
    "    images = []\n",
    "\n",
    "    # Process each image in the group\n",
    "    for image_key in image_group:\n",
    "        response = s3_client.get_object(Bucket=bucket_name, Key=image_key)\n",
    "        image_data = response['Body'].read()\n",
    "\n",
    "        # Save as temporary file\n",
    "        with tempfile.NamedTemporaryFile(delete=False, suffix=\".tiff\") as temp_file:\n",
    "            temp_file.write(image_data)\n",
    "            temp_file_path = temp_file.name\n",
    "\n",
    "        # Open image with ImageJ\n",
    "        img = ij.IJ.openImage(temp_file_path)\n",
    "        images.append(img)\n",
    "        os.remove(temp_file_path)\n",
    "\n",
    "    # Stack and perform max intensity Z-projection\n",
    "    stack_imps = stack.run(images)\n",
    "    z_project_result = ZProjector.run(stack_imps, \"max\")\n",
    "    z_project_np = ij.py.from_java(z_project_result)\n",
    "\n",
    "    # Write image as bytes for S3 upload\n",
    "    output_stream = io.BytesIO()\n",
    "    imageio.imwrite(output_stream, np.array(z_project_np), format='tiff')\n",
    "    output_stream.seek(0)\n",
    "\n",
    "    # Upload to S3\n",
    "    output_key = modify_imagepath(image_group[0])\n",
    "    s3_client.upload_fileobj(output_stream, bucket_name, output_key)\n",
    "\n",
    "\n"
   ]
  },
  {
   "cell_type": "code",
   "execution_count": 3,
   "id": "51c0d71e-4043-4fb9-a2c2-8b46e8bfad60",
   "metadata": {},
   "outputs": [
    {
     "data": {
      "text/plain": [
       "'ImageJ2 2.16.0/1.54g; Java 17.0.14 [amd64]; 189MB of 25600MB'"
      ]
     },
     "execution_count": 3,
     "metadata": {},
     "output_type": "execute_result"
    }
   ],
   "source": [
    "ij.getApp().getInfo(True)"
   ]
  },
  {
   "cell_type": "code",
   "execution_count": 159,
   "id": "7252f5ca-5f6b-4c54-ad64-dfb700dc6f6d",
   "metadata": {},
   "outputs": [
    {
     "name": "stderr",
     "output_type": "stream",
     "text": [
      "/tmp/ipykernel_120/787937202.py:1: DtypeWarning: Columns (7) have mixed types. Specify dtype option on import or set low_memory=False.\n",
      "  df=pd.read_csv(\"work/PfizerBucketImageMetadata.csv\")\n",
      "/tmp/ipykernel_120/787937202.py:2: FutureWarning: In a future version of pandas, parsing datetimes with mixed time zones will raise a warning unless `utc=True`. Please specify `utc=True` to opt in to the new behaviour and silence this warning. To create a `Series` with mixed offsets and `object` dtype, please use `apply` and `datetime.datetime.strptime`\n",
      "  df['Timestamp']=pd.to_datetime(df['Timestamp'],format='ISO8601')\n"
     ]
    }
   ],
   "source": [
    "df=pd.read_csv(\"work/PfizerBucketImageMetadata.csv\")\n",
    "df['Timestamp']=pd.to_datetime(df['Timestamp'],format='ISO8601')\n",
    "df=df.sort_values(by=\"Timestamp\")\n",
    "df['Image_FileName'] = df['Tiff'].str.split('/').str[-1]\n",
    "df['Image_PathName'] = df['Tiff'].str.rsplit('/', n=1).str[0]\n",
    "df = df[['ChannelName','ChannelID', 'Image_FileName', 'Image_PathName','FieldID','PlaneID','PlateID','Row','Col','Timestamp']]"
   ]
  },
  {
   "cell_type": "code",
   "execution_count": 160,
   "id": "0ed8105e-537e-4215-8c03-ce0b6590c845",
   "metadata": {},
   "outputs": [],
   "source": [
    "CP=['GCOE24010961',\n",
    " 'GCOE24010962',\n",
    " 'GCOE24010963',\n",
    " 'GCOE24010964',\n",
    " 'GCOE24010965',\n",
    " 'GCOE24010966',\n",
    " 'GCOE24003446',\n",
    " 'GCOE24003447',\n",
    " 'GCOE24003448',\n",
    " 'GCOE24003449',\n",
    " 'GCOE24003450',\n",
    " 'GCOE24003451']\n",
    "\n",
    "channel_mapping = {1: 'Hoechst', 2: 'Alexa488', 3: 'Cy3', 4: 'Cy5'}"
   ]
  },
  {
   "cell_type": "code",
   "execution_count": null,
   "id": "d89225eb-eef7-4408-82ac-5c6cd44640be",
   "metadata": {
    "scrolled": true
   },
   "outputs": [],
   "source": [
    "stack_df={}\n",
    "\n",
    "for plate in CP:\n",
    "    sub=df[df.PlateID == plate] \n",
    "    for i in range(0, len(sub), 12):\n",
    "    chunk=sub.iloc[i: i +12]\n",
    "    for j in range(4):\n",
    "            # Iterate for 4 channels\n",
    "            # we recuperate each channel in the order, they are ordered by field and the final image will have the same name as the first of the Planes\n",
    "            # this is for easier data wrangling as we then just take Planes == 1 from the original table\n",
    "            image_group = [\n",
    "                chunk.iloc[j].Image_PathName + \"/\" + chunk.iloc[j].Image_FileName,\n",
    "                chunk.iloc[j + 4].Image_PathName + \"/\" + chunk.iloc[j + 4].Image_FileName,\n",
    "                chunk.iloc[j + 8].Image_PathName + \"/\" + chunk.iloc[j + 8].Image_FileName\n",
    "            ]\n",
    "                \n",
    "            max_projection(image_group, \"clientsdata\", s3_client)\n",
    "    \n",
    "        \n",
    "    print(\"Plate {plate} finished! Check Images in bucket\")\n",
    "\n",
    "    #extract and change infromation to then eas up the actual image processing\n",
    "    df_stack=sub[sub.PlaneID==1]\n",
    "    df_stack.loc[:, 'Image_PathName'] = df_stack['Image_PathName'].apply(lambda x: x.replace('Images', 'ImagesStacked'))\n",
    "    df_stack.loc[:, 'ChannelName'] = df_stack['ChannelID'].apply(lambda x: channel_mapping.get(x, 'Unknown'))\n",
    "    \n",
    "    stack_df[plate]=df_stack\n",
    "\n",
    "    \n",
    "\n",
    "    \n",
    "        "
   ]
  },
  {
   "cell_type": "code",
   "execution_count": null,
   "id": "c2715c3f-18de-43cc-8452-2dbe48c505bb",
   "metadata": {},
   "outputs": [],
   "source": [
    "CP_stacked = pd.concat(stack_df.values()).reset_index(drop=True)\n",
    "CP_stacked.to_csv(\"work/PfizerCellPaintin.csv\", index=False)"
   ]
  },
  {
   "cell_type": "code",
   "execution_count": 156,
   "id": "13b3e1b7-f9a3-40aa-9d3e-1679b5d1a577",
   "metadata": {},
   "outputs": [
    {
     "name": "stderr",
     "output_type": "stream",
     "text": [
      "/tmp/ipykernel_120/1543954679.py:3: SettingWithCopyWarning: \n",
      "A value is trying to be set on a copy of a slice from a DataFrame.\n",
      "Try using .loc[row_indexer,col_indexer] = value instead\n",
      "\n",
      "See the caveats in the documentation: https://pandas.pydata.org/pandas-docs/stable/user_guide/indexing.html#returning-a-view-versus-a-copy\n",
      "  df_stack.loc[:, 'Modified_Image_PathName'] = df_stack['Image_PathName'].apply(lambda x: x.replace('Images', 'ImagesStacked'))\n"
     ]
    }
   ],
   "source": [
    "df_stack=sub[sub.PlaneID==1]\n",
    "\n",
    "df_stack.loc[:, 'Modified_Image_PathName'] = df_stack['Image_PathName'].apply(lambda x: x.replace('Images', 'ImagesStacked'))\n",
    "df_stack.loc[:, 'ChannelName'] = df_stack['ChannelID'].apply(lambda x: channel_mapping.get(x, 'Unknown'))"
   ]
  },
  {
   "cell_type": "code",
   "execution_count": 157,
   "id": "cf395caf-9bd7-46e5-82c1-80bbeb56a481",
   "metadata": {},
   "outputs": [
    {
     "data": {
      "text/html": [
       "<div>\n",
       "<style scoped>\n",
       "    .dataframe tbody tr th:only-of-type {\n",
       "        vertical-align: middle;\n",
       "    }\n",
       "\n",
       "    .dataframe tbody tr th {\n",
       "        vertical-align: top;\n",
       "    }\n",
       "\n",
       "    .dataframe thead th {\n",
       "        text-align: right;\n",
       "    }\n",
       "</style>\n",
       "<table border=\"1\" class=\"dataframe\">\n",
       "  <thead>\n",
       "    <tr style=\"text-align: right;\">\n",
       "      <th></th>\n",
       "      <th>ChannelName</th>\n",
       "      <th>ChannelID</th>\n",
       "      <th>Image_FileName</th>\n",
       "      <th>Image_PathName</th>\n",
       "      <th>FieldID</th>\n",
       "      <th>PlaneID</th>\n",
       "      <th>PlateID</th>\n",
       "      <th>Row</th>\n",
       "      <th>Col</th>\n",
       "      <th>Timestamp</th>\n",
       "      <th>Modified_Image_PathName</th>\n",
       "    </tr>\n",
       "  </thead>\n",
       "  <tbody>\n",
       "    <tr>\n",
       "      <th>1354669</th>\n",
       "      <td>Alexa488</td>\n",
       "      <td>2</td>\n",
       "      <td>95-1315-1-106-71-144-47-510.tiff</td>\n",
       "      <td>Pfizer_livecellpainting_64compounds/dataset-a7...</td>\n",
       "      <td>1</td>\n",
       "      <td>1</td>\n",
       "      <td>GCOE24010961</td>\n",
       "      <td>1</td>\n",
       "      <td>1</td>\n",
       "      <td>2024-11-21 13:30:42.999000100-05:00</td>\n",
       "      <td>Pfizer_livecellpainting_64compounds/dataset-a7...</td>\n",
       "    </tr>\n",
       "    <tr>\n",
       "      <th>1354671</th>\n",
       "      <td>Cy5</td>\n",
       "      <td>4</td>\n",
       "      <td>95-1315-1-106-71-144-41-510.tiff</td>\n",
       "      <td>Pfizer_livecellpainting_64compounds/dataset-a7...</td>\n",
       "      <td>1</td>\n",
       "      <td>1</td>\n",
       "      <td>GCOE24010961</td>\n",
       "      <td>1</td>\n",
       "      <td>1</td>\n",
       "      <td>2024-11-21 13:30:43.030200100-05:00</td>\n",
       "      <td>Pfizer_livecellpainting_64compounds/dataset-a7...</td>\n",
       "    </tr>\n",
       "    <tr>\n",
       "      <th>1354670</th>\n",
       "      <td>Cy3</td>\n",
       "      <td>3</td>\n",
       "      <td>95-1315-1-106-71-144-46-510.tiff</td>\n",
       "      <td>Pfizer_livecellpainting_64compounds/dataset-a7...</td>\n",
       "      <td>1</td>\n",
       "      <td>1</td>\n",
       "      <td>GCOE24010961</td>\n",
       "      <td>1</td>\n",
       "      <td>1</td>\n",
       "      <td>2024-11-21 13:30:43.155000100-05:00</td>\n",
       "      <td>Pfizer_livecellpainting_64compounds/dataset-a7...</td>\n",
       "    </tr>\n",
       "    <tr>\n",
       "      <th>1354668</th>\n",
       "      <td>Hoechst</td>\n",
       "      <td>1</td>\n",
       "      <td>95-1315-1-106-71-144-44-510.tiff</td>\n",
       "      <td>Pfizer_livecellpainting_64compounds/dataset-a7...</td>\n",
       "      <td>1</td>\n",
       "      <td>1</td>\n",
       "      <td>GCOE24010961</td>\n",
       "      <td>1</td>\n",
       "      <td>1</td>\n",
       "      <td>2024-11-21 13:30:43.248600100-05:00</td>\n",
       "      <td>Pfizer_livecellpainting_64compounds/dataset-a7...</td>\n",
       "    </tr>\n",
       "    <tr>\n",
       "      <th>1354681</th>\n",
       "      <td>Alexa488</td>\n",
       "      <td>2</td>\n",
       "      <td>92-1315-1-106-71-144-47-510.tiff</td>\n",
       "      <td>Pfizer_livecellpainting_64compounds/dataset-a7...</td>\n",
       "      <td>2</td>\n",
       "      <td>1</td>\n",
       "      <td>GCOE24010961</td>\n",
       "      <td>1</td>\n",
       "      <td>1</td>\n",
       "      <td>2024-11-21 13:30:44.605800100-05:00</td>\n",
       "      <td>Pfizer_livecellpainting_64compounds/dataset-a7...</td>\n",
       "    </tr>\n",
       "    <tr>\n",
       "      <th>...</th>\n",
       "      <td>...</td>\n",
       "      <td>...</td>\n",
       "      <td>...</td>\n",
       "      <td>...</td>\n",
       "      <td>...</td>\n",
       "      <td>...</td>\n",
       "      <td>...</td>\n",
       "      <td>...</td>\n",
       "      <td>...</td>\n",
       "      <td>...</td>\n",
       "      <td>...</td>\n",
       "    </tr>\n",
       "    <tr>\n",
       "      <th>1357236</th>\n",
       "      <td>Hoechst</td>\n",
       "      <td>1</td>\n",
       "      <td>86-1338-1-106-71-144-44-510.tiff</td>\n",
       "      <td>Pfizer_livecellpainting_64compounds/dataset-a7...</td>\n",
       "      <td>8</td>\n",
       "      <td>1</td>\n",
       "      <td>GCOE24010961</td>\n",
       "      <td>1</td>\n",
       "      <td>24</td>\n",
       "      <td>2024-11-21 15:08:38.224237700-05:00</td>\n",
       "      <td>Pfizer_livecellpainting_64compounds/dataset-a7...</td>\n",
       "    </tr>\n",
       "    <tr>\n",
       "      <th>1357249</th>\n",
       "      <td>Alexa488</td>\n",
       "      <td>2</td>\n",
       "      <td>87-1338-1-106-71-144-47-510.tiff</td>\n",
       "      <td>Pfizer_livecellpainting_64compounds/dataset-a7...</td>\n",
       "      <td>9</td>\n",
       "      <td>1</td>\n",
       "      <td>GCOE24010961</td>\n",
       "      <td>1</td>\n",
       "      <td>24</td>\n",
       "      <td>2024-11-21 15:08:39.581437700-05:00</td>\n",
       "      <td>Pfizer_livecellpainting_64compounds/dataset-a7...</td>\n",
       "    </tr>\n",
       "    <tr>\n",
       "      <th>1357251</th>\n",
       "      <td>Cy5</td>\n",
       "      <td>4</td>\n",
       "      <td>87-1338-1-106-71-144-41-510.tiff</td>\n",
       "      <td>Pfizer_livecellpainting_64compounds/dataset-a7...</td>\n",
       "      <td>9</td>\n",
       "      <td>1</td>\n",
       "      <td>GCOE24010961</td>\n",
       "      <td>1</td>\n",
       "      <td>24</td>\n",
       "      <td>2024-11-21 15:08:39.612637700-05:00</td>\n",
       "      <td>Pfizer_livecellpainting_64compounds/dataset-a7...</td>\n",
       "    </tr>\n",
       "    <tr>\n",
       "      <th>1357250</th>\n",
       "      <td>Cy3</td>\n",
       "      <td>3</td>\n",
       "      <td>87-1338-1-106-71-144-46-510.tiff</td>\n",
       "      <td>Pfizer_livecellpainting_64compounds/dataset-a7...</td>\n",
       "      <td>9</td>\n",
       "      <td>1</td>\n",
       "      <td>GCOE24010961</td>\n",
       "      <td>1</td>\n",
       "      <td>24</td>\n",
       "      <td>2024-11-21 15:08:39.737437700-05:00</td>\n",
       "      <td>Pfizer_livecellpainting_64compounds/dataset-a7...</td>\n",
       "    </tr>\n",
       "    <tr>\n",
       "      <th>1357248</th>\n",
       "      <td>Hoechst</td>\n",
       "      <td>1</td>\n",
       "      <td>87-1338-1-106-71-144-44-510.tiff</td>\n",
       "      <td>Pfizer_livecellpainting_64compounds/dataset-a7...</td>\n",
       "      <td>9</td>\n",
       "      <td>1</td>\n",
       "      <td>GCOE24010961</td>\n",
       "      <td>1</td>\n",
       "      <td>24</td>\n",
       "      <td>2024-11-21 15:08:39.831037700-05:00</td>\n",
       "      <td>Pfizer_livecellpainting_64compounds/dataset-a7...</td>\n",
       "    </tr>\n",
       "  </tbody>\n",
       "</table>\n",
       "<p>13824 rows × 11 columns</p>\n",
       "</div>"
      ],
      "text/plain": [
       "        ChannelName  ChannelID                    Image_FileName  \\\n",
       "1354669    Alexa488          2  95-1315-1-106-71-144-47-510.tiff   \n",
       "1354671         Cy5          4  95-1315-1-106-71-144-41-510.tiff   \n",
       "1354670         Cy3          3  95-1315-1-106-71-144-46-510.tiff   \n",
       "1354668     Hoechst          1  95-1315-1-106-71-144-44-510.tiff   \n",
       "1354681    Alexa488          2  92-1315-1-106-71-144-47-510.tiff   \n",
       "...             ...        ...                               ...   \n",
       "1357236     Hoechst          1  86-1338-1-106-71-144-44-510.tiff   \n",
       "1357249    Alexa488          2  87-1338-1-106-71-144-47-510.tiff   \n",
       "1357251         Cy5          4  87-1338-1-106-71-144-41-510.tiff   \n",
       "1357250         Cy3          3  87-1338-1-106-71-144-46-510.tiff   \n",
       "1357248     Hoechst          1  87-1338-1-106-71-144-44-510.tiff   \n",
       "\n",
       "                                            Image_PathName  FieldID  PlaneID  \\\n",
       "1354669  Pfizer_livecellpainting_64compounds/dataset-a7...        1        1   \n",
       "1354671  Pfizer_livecellpainting_64compounds/dataset-a7...        1        1   \n",
       "1354670  Pfizer_livecellpainting_64compounds/dataset-a7...        1        1   \n",
       "1354668  Pfizer_livecellpainting_64compounds/dataset-a7...        1        1   \n",
       "1354681  Pfizer_livecellpainting_64compounds/dataset-a7...        2        1   \n",
       "...                                                    ...      ...      ...   \n",
       "1357236  Pfizer_livecellpainting_64compounds/dataset-a7...        8        1   \n",
       "1357249  Pfizer_livecellpainting_64compounds/dataset-a7...        9        1   \n",
       "1357251  Pfizer_livecellpainting_64compounds/dataset-a7...        9        1   \n",
       "1357250  Pfizer_livecellpainting_64compounds/dataset-a7...        9        1   \n",
       "1357248  Pfizer_livecellpainting_64compounds/dataset-a7...        9        1   \n",
       "\n",
       "              PlateID  Row  Col                            Timestamp  \\\n",
       "1354669  GCOE24010961    1    1  2024-11-21 13:30:42.999000100-05:00   \n",
       "1354671  GCOE24010961    1    1  2024-11-21 13:30:43.030200100-05:00   \n",
       "1354670  GCOE24010961    1    1  2024-11-21 13:30:43.155000100-05:00   \n",
       "1354668  GCOE24010961    1    1  2024-11-21 13:30:43.248600100-05:00   \n",
       "1354681  GCOE24010961    1    1  2024-11-21 13:30:44.605800100-05:00   \n",
       "...               ...  ...  ...                                  ...   \n",
       "1357236  GCOE24010961    1   24  2024-11-21 15:08:38.224237700-05:00   \n",
       "1357249  GCOE24010961    1   24  2024-11-21 15:08:39.581437700-05:00   \n",
       "1357251  GCOE24010961    1   24  2024-11-21 15:08:39.612637700-05:00   \n",
       "1357250  GCOE24010961    1   24  2024-11-21 15:08:39.737437700-05:00   \n",
       "1357248  GCOE24010961    1   24  2024-11-21 15:08:39.831037700-05:00   \n",
       "\n",
       "                                   Modified_Image_PathName  \n",
       "1354669  Pfizer_livecellpainting_64compounds/dataset-a7...  \n",
       "1354671  Pfizer_livecellpainting_64compounds/dataset-a7...  \n",
       "1354670  Pfizer_livecellpainting_64compounds/dataset-a7...  \n",
       "1354668  Pfizer_livecellpainting_64compounds/dataset-a7...  \n",
       "1354681  Pfizer_livecellpainting_64compounds/dataset-a7...  \n",
       "...                                                    ...  \n",
       "1357236  Pfizer_livecellpainting_64compounds/dataset-a7...  \n",
       "1357249  Pfizer_livecellpainting_64compounds/dataset-a7...  \n",
       "1357251  Pfizer_livecellpainting_64compounds/dataset-a7...  \n",
       "1357250  Pfizer_livecellpainting_64compounds/dataset-a7...  \n",
       "1357248  Pfizer_livecellpainting_64compounds/dataset-a7...  \n",
       "\n",
       "[13824 rows x 11 columns]"
      ]
     },
     "execution_count": 157,
     "metadata": {},
     "output_type": "execute_result"
    }
   ],
   "source": [
    "df_stack"
   ]
  },
  {
   "cell_type": "code",
   "execution_count": 115,
   "id": "59d02e92-bf95-42be-8709-5a64b84a0229",
   "metadata": {},
   "outputs": [],
   "source": [
    "#s3_client= boto3.client('s3')\n",
    "\n",
    "max_projection(image_group, \"clientsdata\", s3_client)"
   ]
  },
  {
   "cell_type": "code",
   "execution_count": 117,
   "id": "7ae3e7ec-e91a-476e-906d-b9f0adc6713b",
   "metadata": {},
   "outputs": [
    {
     "data": {
      "text/plain": [
       "['Pfizer_livecellpainting_64compounds/dataset-d31c9fc2-b4a8-11ef-9b5e-02420a000112/Images/118-907-93-211-140-713-47-28.tiff',\n",
       " 'Pfizer_livecellpainting_64compounds/dataset-d31c9fc2-b4a8-11ef-9b5e-02420a000112/Images/118-907-93-208-140-713-47-28.tiff',\n",
       " 'Pfizer_livecellpainting_64compounds/dataset-d31c9fc2-b4a8-11ef-9b5e-02420a000112/Images/118-907-93-209-140-713-47-28.tiff']"
      ]
     },
     "execution_count": 117,
     "metadata": {},
     "output_type": "execute_result"
    }
   ],
   "source": [
    "c_1"
   ]
  },
  {
   "cell_type": "code",
   "execution_count": 122,
   "id": "756a9479-64ee-4ae4-840b-71c8b19dfc44",
   "metadata": {},
   "outputs": [
    {
     "data": {
      "text/plain": [
       "['Pfizer_livecellpainting_64compounds/dataset-d31c9fc2-b4a8-11ef-9b5e-02420a000112/Images/118-907-93-211-140-713-44-28.tiff',\n",
       " 'Pfizer_livecellpainting_64compounds/dataset-d31c9fc2-b4a8-11ef-9b5e-02420a000112/Images/118-907-93-208-140-713-44-28.tiff',\n",
       " 'Pfizer_livecellpainting_64compounds/dataset-d31c9fc2-b4a8-11ef-9b5e-02420a000112/Images/118-907-93-209-140-713-44-28.tiff']"
      ]
     },
     "execution_count": 122,
     "metadata": {},
     "output_type": "execute_result"
    }
   ],
   "source": [
    "c_4"
   ]
  },
  {
   "cell_type": "code",
   "execution_count": 1,
   "id": "5b07d424-9aa4-4f33-b9c9-5abf29b5972c",
   "metadata": {},
   "outputs": [],
   "source": [
    "import numpy as np\n",
    "import imagej\n",
    "import boto3\n",
    "import io\n",
    "import pandas as pd\n",
    "import imageio\n",
    "import argparse\n",
    "\n",
    "def modify_imagepath(filepath):\n",
    "    parts = filepath.split('/')\n",
    "    if 'Images' in parts:\n",
    "        images_index = parts.index('Images')\n",
    "        parts[images_index] = 'ImagesStacked'\n",
    "        return '/'.join(parts)\n",
    "    else:\n",
    "        return filepath\n",
    "\n",
    "def max_projection(image_group, bucket_name, s3_client):\n",
    "    images = []\n",
    "\n",
    "    # Load each image from S3\n",
    "    for image_key in image_group:\n",
    "        response = s3_client.get_object(Bucket=bucket_name, Key=image_key)\n",
    "        image_data = response['Body'].read()\n",
    "        image = imageio.imread(io.BytesIO(image_data))  # Load as NumPy array\n",
    "        images.append(image)\n",
    "\n",
    "    # Ensure all images have the same shape\n",
    "    if not all(img.shape == images[0].shape for img in images):\n",
    "        raise ValueError(\"All images must have the same dimensions.\")\n",
    "\n",
    "    # Compute max intensity projection\n",
    "    max_projection = np.maximum.reduce(images)\n",
    "\n",
    "    # Save as TIFF in-memory for S3 upload\n",
    "    output_stream = io.BytesIO()\n",
    "    imageio.imwrite(output_stream, max_projection, format='tiff')\n",
    "    output_stream.seek(0)\n",
    "\n",
    "    # Upload to S3\n",
    "    output_key = modify_imagepath(image_group[0])\n",
    "    s3_client.upload_fileobj(output_stream, bucket_name, output_key)"
   ]
  },
  {
   "cell_type": "code",
   "execution_count": 3,
   "id": "25a696ed-2dd5-41fe-adba-1b3d7ed2ba4f",
   "metadata": {},
   "outputs": [],
   "source": [
    "image_group=['Pfizer_livecellpainting_64compounds/dataset-d31c9fc2-b4a8-11ef-9b5e-02420a000112/Images/118-907-93-211-140-713-47-28.tiff',\n",
    " 'Pfizer_livecellpainting_64compounds/dataset-d31c9fc2-b4a8-11ef-9b5e-02420a000112/Images/118-907-93-208-140-713-47-28.tiff',\n",
    " 'Pfizer_livecellpainting_64compounds/dataset-d31c9fc2-b4a8-11ef-9b5e-02420a000112/Images/118-907-93-209-140-713-47-28.tiff']"
   ]
  },
  {
   "cell_type": "code",
   "execution_count": 6,
   "id": "74cb15c8-05eb-4825-97e7-5d2db89087b7",
   "metadata": {},
   "outputs": [
    {
     "name": "stderr",
     "output_type": "stream",
     "text": [
      "/tmp/ipykernel_136/1490661487.py:6: DeprecationWarning: Starting with ImageIO v3 the behavior of this function will switch to that of iio.v3.imread. To keep the current behavior (and make this warning disappear) use `import imageio.v2 as imageio` or call `imageio.v2.imread` directly.\n",
      "  image = imageio.imread(io.BytesIO(image_data))  # Load as NumPy array\n"
     ]
    }
   ],
   "source": [
    "s3_client = boto3.client('s3')\n",
    "images = []\n",
    "for image_key in image_group:\n",
    "    response = s3_client.get_object(Bucket=\"clientsdata\", Key=image_key)\n",
    "    image_data = response['Body'].read()\n",
    "    image = imageio.imread(io.BytesIO(image_data))  # Load as NumPy array\n",
    "    images.append(image)"
   ]
  },
  {
   "cell_type": "code",
   "execution_count": 8,
   "id": "c84222a7-0168-45f3-8fc0-8a8dc941254a",
   "metadata": {},
   "outputs": [],
   "source": [
    "max_projection = np.maximum.reduce(images)"
   ]
  },
  {
   "cell_type": "code",
   "execution_count": 9,
   "id": "36e1cef3-2052-4892-82fa-2ad9aff49c4c",
   "metadata": {},
   "outputs": [
    {
     "data": {
      "text/plain": [
       "array([[271, 251, 230, ..., 128, 129, 129],\n",
       "       [279, 260, 259, ..., 112, 119, 138],\n",
       "       [257, 262, 278, ..., 129, 135, 150],\n",
       "       ...,\n",
       "       [497, 491, 484, ..., 133, 125, 123],\n",
       "       [509, 462, 476, ..., 121, 128, 123],\n",
       "       [536, 477, 500, ..., 119, 127, 128]], dtype=uint16)"
      ]
     },
     "execution_count": 9,
     "metadata": {},
     "output_type": "execute_result"
    }
   ],
   "source": [
    "max_projection"
   ]
  },
  {
   "cell_type": "code",
   "execution_count": 10,
   "id": "45912677-0848-4577-89c6-3826cbfcd2aa",
   "metadata": {},
   "outputs": [
    {
     "data": {
      "text/plain": [
       "'Pfizer_livecellpainting_64compounds/dataset-d31c9fc2-b4a8-11ef-9b5e-02420a000112/ImagesStacked/118-907-93-211-140-713-47-28.tiff'"
      ]
     },
     "execution_count": 10,
     "metadata": {},
     "output_type": "execute_result"
    }
   ],
   "source": [
    "modify_imagepath(image_group[0])"
   ]
  },
  {
   "cell_type": "code",
   "execution_count": 11,
   "id": "64f5abaf-e762-4e20-ad5f-0ed4025622e1",
   "metadata": {},
   "outputs": [],
   "source": [
    "output_stream = io.BytesIO()\n",
    "imageio.imwrite(output_stream, max_projection, format='tiff')\n",
    "output_stream.seek(0)\n",
    "\n",
    "# Upload to S3\n",
    "output_key = modify_imagepath(image_group[0])\n",
    "s3_client.upload_fileobj(output_stream, \"clientsdata\", output_key)"
   ]
  }
 ],
 "metadata": {
  "kernelspec": {
   "display_name": "Python 3 (ipykernel)",
   "language": "python",
   "name": "python3"
  },
  "language_info": {
   "codemirror_mode": {
    "name": "ipython",
    "version": 3
   },
   "file_extension": ".py",
   "mimetype": "text/x-python",
   "name": "python",
   "nbconvert_exporter": "python",
   "pygments_lexer": "ipython3",
   "version": "3.11.6"
  }
 },
 "nbformat": 4,
 "nbformat_minor": 5
}
